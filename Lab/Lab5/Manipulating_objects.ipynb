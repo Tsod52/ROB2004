{
 "cells": [
  {
   "cell_type": "markdown",
   "metadata": {},
   "source": [
    "## This laboratory will be conducted over two sessions\n",
    "## You are expected to finish the software and test the code in simulation between the sessions! ##\n",
    "\n",
    "# Manipulating objects\n",
    "\n",
    "For this laboratory, we will use two robots distant from each other of 25cm as depicted in the figure below\n",
    "\n",
    "<img src=\"./2_robot_config.png\" width=\"500\">\n",
    "\n",
    "There is 1cm between the end-effector \"shell\" and the position of the frame as depicted in the figure below\n",
    "\n",
    "<img src=\"./foot_close.png\" width=\"300\">\n",
    "\n",
    "<img src=\"./box.jpg\" width=\"200\">\n",
    "\n",
    "The objects to grasp are soft cubes with a 5cm side.\n",
    "Three cubes are stacked on top of each other. The goal of the laboratory is to design a controller to will move the two cubes on the top away\n",
    "and pick the bottom cube and lift it up by 10cm."
   ]
  },
  {
   "cell_type": "markdown",
   "metadata": {},
   "source": [
    "## Functions From Previous Labs"
   ]
  },
  {
   "cell_type": "code",
   "execution_count": 1,
   "metadata": {},
   "outputs": [],
   "source": [
    "#setup nice plotting (use widget instead of notebook in the command below if you use jupyter lab)\n",
    "\n",
    "# we import useful libraries\n",
    "import numpy as np\n",
    "import matplotlib as mp\n",
    "import matplotlib.pyplot as plt\n",
    "from time import sleep\n",
    "\n",
    "# this function returns the body Jacobian\n",
    "from robot_utils import getBodyJacobianOrientedLikeSpatialFrame\n",
    "\n",
    "# we import the robot class\n",
    "use_real_robot = False\n",
    "\n",
    "if use_real_robot:\n",
    "    from NYUFinger.real import NYUDualFingerHardware as Robot   \n",
    "else:\n",
    "    from NYUFinger.sim import NYUDualFingerSimulator as Robot\n",
    "\n",
    "\n",
    "# here we define the global variables for the robot size\n",
    "l0 = 0.3\n",
    "l1 = 0.16\n",
    "l2 = 0.16\n",
    "l3 = 0.014\n",
    "\n",
    "def translate(vector):\n",
    "    # we allocate a 4x4 array (as identity since this corresponds to no motion)\n",
    "    transform = np.eye(4)\n",
    "    # here you can fill the rest of the transform\n",
    "    ##WRITE CODE HERE\n",
    "    transform[0][3] = vector[0]\n",
    "    transform[1][3] = vector[1]\n",
    "    transform[2][3] = vector[2]\n",
    "\n",
    "    ### we return the object\n",
    "    return transform\n",
    "\n",
    "def rotateX(angle):\n",
    "    # we allocate a 4x4 array (as identity since this corresponds to no motion)\n",
    "    transform = np.eye(4)\n",
    "    # here you can fill the rest of the transform\n",
    "    ##WRITE CODE HERE\n",
    "    transform[1][1] = np.cos(angle)\n",
    "    transform[1][2] = -(np.sin(angle))\n",
    "    transform[2][1] = np.sin(angle)\n",
    "    transform[2][2] = np.cos(angle)\n",
    "\n",
    "    ### we return the object\n",
    "    return transform\n",
    "\n",
    "def rotateY(angle):\n",
    "    # we allocate a 4x4 array (as identity since this corresponds to no motion)\n",
    "    transform = np.eye(4)\n",
    "    # here you can fill the rest of the transform\n",
    "    ##WRITE CODE HERE\n",
    "    transform[0][0] = np.cos(angle)\n",
    "    transform[0][2] = (np.sin(angle))\n",
    "    transform[2][0] = -np.sin(angle)\n",
    "    transform[2][2] = np.cos(angle)\n",
    "    \n",
    "    ### we return the object\n",
    "    return transform\n",
    "\n",
    "def rotateZ(angle):\n",
    "    # we allocate a 4x4 array (as identity since this corresponds to no motion)\n",
    "    transform = np.eye(4)\n",
    "    # here you can fill the rest of the transform\n",
    "    ##WRITE CODE HERE\n",
    "    transform[0][0] = np.cos(angle)\n",
    "    transform[0][1] = -(np.sin(angle))\n",
    "    transform[1][0] = np.sin(angle)\n",
    "    transform[1][1] = np.cos(angle)\n",
    "    \n",
    "    ### we return the object\n",
    "    return transform\n",
    "def forward_kinematics(theta):\n",
    "    # assume theta is a vector, theta[0] = theta0, theta[1] = theta1, etc.\n",
    "    # we define the lengths of the robot\n",
    "    l0 = 0.3\n",
    "    l1 = 0.16\n",
    "    l2 = 0.16\n",
    "    l3 = 0.014\n",
    "    \n",
    "    ###WRITE YOUR CODE HERE\n",
    "    t_SH1 = translate([l0,0,0]) @ rotateX(theta[0]) # translation in x by l0 and rotation in x by theta[0]\n",
    "\n",
    "    t_H1H2 = translate([0,0,l3]) @ rotateZ(theta[1])#translation in z by l3 and rotation in z by theta[1]\n",
    "\n",
    "    t_H2K = translate([0,-l1,0]) @ rotateZ(theta[2]) #translation in y by l1 and rotation in z by theta[2]\n",
    "\n",
    "    t_KF = translate([0,-l2,0]) #translation in y by l2\n",
    "    \n",
    "    t_SF = t_SH1 @ t_H1H2 @ t_H2K @ t_KF\n",
    "    \n",
    "    ### we return the object\n",
    "    return t_SF\n",
    "\n",
    "def compute_trajectory(position_init, position_goal, t_init, t_goal, t):\n",
    "    desired_position = 0\n",
    "    desired_velocity = 0\n",
    "    \n",
    "    #Total time of the trajectory\n",
    "    T = t_goal - t_init\n",
    "    \n",
    "    #Velocity, acceleration and position constraint functions\n",
    "    s_t = (10/(T**3))*(t-t_init)**3 - (15/(T**4))*(t-t_init)**4 + (6/(T**5))*(t-t_init)**5\n",
    "    \n",
    "    s_prime_t = (30/(T**3))*(t-t_init)**2 - (60/(T**4))*(t-t_init)**3 + (30/(T**5))*(t-t_init)**4\n",
    "    \n",
    "    #desired position\n",
    "    desired_position = position_init + s_t*(position_goal - position_init)\n",
    "    \n",
    "    #desired velocity\n",
    "    desired_velocity = s_prime_t*(position_goal - position_init)\n",
    "    \n",
    "    # we return the answer\n",
    "    return desired_position, desired_velocity\n",
    "\n"
   ]
  },
  {
   "cell_type": "markdown",
   "metadata": {},
   "source": [
    "## Instantiate The Robots\n",
    "If you're using the real robots, put them into zero position and then run the next cell to instantiate and reset them. "
   ]
  },
  {
   "cell_type": "code",
   "execution_count": 2,
   "metadata": {},
   "outputs": [
    {
     "name": "stderr",
     "output_type": "stream",
     "text": [
      "libdecor-gtk-WARNING: Failed to initialize GTK\n",
      "Failed to load plugin 'libdecor-gtk.so': failed to init\n",
      "/home/alberttsododo/.conda/envs/rob2004/lib/python3.13/site-packages/glfw/__init__.py:917: GLFWError: (65548) b'Wayland: The platform does not provide the window position'\n",
      "  warnings.warn(message, GLFWError)\n"
     ]
    }
   ],
   "source": [
    "robot = Robot()\n",
    "if use_real_robot:\n",
    "    robot.reset_sensors()\n",
    "else:\n",
    "    robot.reset()"
   ]
  },
  {
   "cell_type": "markdown",
   "metadata": {},
   "source": [
    "You can also visualize the robot to ensure that the real movement of the robot matches the 3D simulator environment (Only if you're using the real robot)"
   ]
  },
  {
   "cell_type": "code",
   "execution_count": null,
   "metadata": {},
   "outputs": [],
   "source": [
    "import time\n",
    "if use_real_robot:\n",
    "    from NYUFinger.utils.vis import NYUDualFingerVisualizer\n",
    "    vis = NYUDualFingerVisualizer()\n",
    "    start_time = time.time()\n",
    "    while time.time()-start_time < 60:\n",
    "        q, dq = robot.get_state()\n",
    "        robot.send_joint_torque(np.zeros(6))\n",
    "        vis.show(q)\n",
    "        time.sleep(0.01)\n",
    "else:\n",
    "    print('This visualization is meaningless for the simulated robot experiment')"
   ]
  },
  {
   "cell_type": "markdown",
   "metadata": {},
   "source": [
    "## Interacting with the Robot\n",
    "For this lab, you'll be using two robots at the same time. Unlike the previous labs where the $\\tau$, $q$, and $dq$ were 3D vectors, in this lab robot takes 6D commands and returns 6D states. The first three numbers are for finger 1 (left) and the last three are for the finger 2 (right). Let's make sure you can read the sates and command the robot:"
   ]
  },
  {
   "cell_type": "code",
   "execution_count": 3,
   "metadata": {},
   "outputs": [
    {
     "name": "stdout",
     "output_type": "stream",
     "text": [
      "Robot1: q=[-3.10451769e-01 -4.25346391e-17  2.42076164e-17], dq1=[-4.55666693e-03  1.64534085e-17 -6.13108790e-17]\n",
      "Robot2: q=[-3.10451769e-01 -1.73045288e-16 -1.69097069e-19], dq1=[-4.55666693e-03 -3.00780246e-17  1.20605976e-17]\n"
     ]
    }
   ],
   "source": [
    "q, dq = robot.get_state()\n",
    "\n",
    "q1 = q[:3]\n",
    "q2 = q[3:]\n",
    "dq1 = dq[:3]\n",
    "dq2 = dq[3:]\n",
    "print(f'Robot1: q={q1}, dq1={dq1}')\n",
    "print(f'Robot2: q={q2}, dq1={dq2}')"
   ]
  },
  {
   "cell_type": "markdown",
   "metadata": {},
   "source": [
    "If you're using the simulator, you can also access the ground truth position of the cubes using `robot.get_cube_positions()` and reset their location using `robot.reset()`: "
   ]
  },
  {
   "cell_type": "code",
   "execution_count": null,
   "metadata": {},
   "outputs": [
    {
     "name": "stdout",
     "output_type": "stream",
     "text": [
      "{'cube1': array([ 0.125     , -0.05      ,  0.02499019]), 'cube2': array([ 0.125     , -0.05      ,  0.07499019]), 'cube3': array([ 0.125     , -0.05      ,  0.12499019])}\n",
      "<class 'method'>\n"
     ]
    },
    {
     "ename": "TypeError",
     "evalue": "'method' object is not subscriptable",
     "output_type": "error",
     "traceback": [
      "\u001b[31m---------------------------------------------------------------------------\u001b[39m",
      "\u001b[31mTypeError\u001b[39m                                 Traceback (most recent call last)",
      "\u001b[36mCell\u001b[39m\u001b[36m \u001b[39m\u001b[32mIn[5]\u001b[39m\u001b[32m, line 7\u001b[39m\n\u001b[32m      5\u001b[39m cube_pos_1 = cube_pos\n\u001b[32m      6\u001b[39m \u001b[38;5;28mprint\u001b[39m(\u001b[38;5;28mtype\u001b[39m(cube_pos))\n\u001b[32m----> \u001b[39m\u001b[32m7\u001b[39m cube_1 = \u001b[43mcube_pos\u001b[49m\u001b[43m[\u001b[49m\u001b[33;43m\"\u001b[39;49m\u001b[33;43mcube1\u001b[39;49m\u001b[33;43m\"\u001b[39;49m\u001b[43m]\u001b[49m\n\u001b[32m      8\u001b[39m cube_2 = cube_pos[\u001b[33m\"\u001b[39m\u001b[33mcube2\u001b[39m\u001b[33m\"\u001b[39m]\n\u001b[32m      9\u001b[39m cube_3 = cube_pos[\u001b[33m\"\u001b[39m\u001b[33mcube3\u001b[39m\u001b[33m\"\u001b[39m]\n",
      "\u001b[31mTypeError\u001b[39m: 'method' object is not subscriptable"
     ]
    }
   ],
   "source": [
    "# Corrected code\n",
    "if not use_real_robot:\n",
    "    robot.reset()\n",
    "    cube_pos = robot.get_cube_positions()  # Add parentheses to call the method\n",
    "    print(cube_pos)\n",
    "    \n",
    "    cube_1 = cube_pos[\"cube1\"]\n",
    "    cube_2 = cube_pos[\"cube2\"]\n",
    "    cube_3 = cube_pos[\"cube3\"]\n",
    "\n",
    "    print(cube_1)\n",
    "    print(cube_2)\n",
    "    print(cube_3)\n"
   ]
  },
  {
   "cell_type": "markdown",
   "metadata": {},
   "source": [
    "## Questions\n",
    "In this laboratory you are expected to re-use code from the previous laboratories (e.g. to plot, compute forward kinematics, etc) and solve the problem in both simulation and using the real robot. For both simulation and real robot deployment, you're expected to upload a short video of the robot solving the task alongside the report containing plots showing the robot reaching the desired 10cm goal for the designated cube.\n",
    "\n",
    "1. Using an impedance controller (Lab4 - use the ``getBodyJacobianOrientedLikeSpatialFrame`` function to get the Jacobian) and one trajectory generation method seen in Lab3 write a complete controller that solves the problem: move the top two cubes away, grasp the last cube and move it up by 10cm. In the report, describe in details the controller you designed (what it does, etc) and the results you obtained.\n",
    "\n",
    "2. Test your controller in simulation. Save and plot the results.\n",
    "   \n",
    "3. Test the controller on the real robots. Save and plot the results.\n",
    "\n",
    "4. (optional - bonus) Extend the controller to rearrange the cubes - putting the bottom one on top of the two others."
   ]
  },
  {
   "cell_type": "code",
   "execution_count": null,
   "metadata": {},
   "outputs": [],
   "source": [
    "# we simulate for 10 seconds\n",
    "run_time = 13.\n",
    "dt = 0.001\n",
    "num_steps = int(run_time/dt)\n",
    "\n",
    "\n",
    "\n",
    "# the PD gains\n",
    "P = np.array([3, 3, 3])\n",
    "D = np.array([0.1, 0.1, 0.1])\n",
    "\n",
    "K = np.diag(P)\n",
    "D = np.diag(D)\n",
    "\n",
    "## we allocate a few vectors to collect data while we do the simulation\n",
    "# we keep track of time\n",
    "time = np.zeros([num_steps])\n",
    "# we will store the sensor values (angular position and velocities)\n",
    "measured_positions_f1 = np.zeros([num_steps,3])\n",
    "measured_velocities_f1 = np.zeros_like(measured_positions_f1)\n",
    "measured_positions_f2 = np.zeros_like(measured_positions_f1)\n",
    "measured_velocities_f2 = np.zeros_like(measured_positions_f1)\n",
    "# we will store the end effector position (desired and measured)\n",
    "measured_finger_position_f1 = np.zeros([num_steps,3])\n",
    "desired_finger_position_f1 = np.zeros([num_steps,3])\n",
    "measured_finger_position_f2 = np.zeros([num_steps,3])\n",
    "desired_finger_position_f2 = np.zeros([num_steps,3])\n",
    "t = 0\n",
    "\n",
    "for i in range(num_steps):\n",
    "    # get the current time and save it\n",
    "    time[i] = dt * i\n",
    "    \n",
    "    time_to_goal = 3\n",
    "\n",
    "    # we get the position and velocities of the joints\n",
    "    q, dq = robot.get_state()\n",
    "    q1 = q[:3]\n",
    "    q2 = q[3:]\n",
    "    dq1 = dq[:3]\n",
    "    dq2 = dq[3:]\n",
    "    \n",
    "    # controller: TODO HERE IMPLEMENT YOUR CONTROLLER\n",
    "\n",
    "    #interpolate the trajectory\n",
    "    q_des_1 = [0.125, -0.05, 0.12499018]\n",
    "    q_des_2 = [0.125, -0.05, 0.12499018]\n",
    "\n",
    "    q_des_1 , dq_des_1 = compute_trajectory(q1,q_des_1, 0, time_to_goal, t)\n",
    "    q_des_2 , dq_des_2 = compute_trajectory(q2,q_des_2, 0, time_to_goal, t)\n",
    "    t += dt\n",
    "\n",
    "    #Kp and Kd controller\n",
    "    position_error_1 = q_des_1 - q1\n",
    "    velocity_error_1 = dq_des_1 - dq1\n",
    "    position_error_2 = q_des_2 - q2\n",
    "    velocity_error_2 = dq_des_2 - dq2\n",
    "\n",
    "    tau_task_1 = K @ position_error_1 + D @ velocity_error_1\n",
    "    tau_task_2 = K @ position_error_2 + D @ velocity_error_2\n",
    "    J1 = getBodyJacobianOrientedLikeSpatialFrame(q1)\n",
    "    J2 = getBodyJacobianOrientedLikeSpatialFrame(q2)\n",
    "\n",
    "    joint_torques1 = J1.T @ tau_task_1\n",
    "    joint_torques2 = J2.T @ tau_task_2\n",
    "    \n",
    "    joint_torques = np.concatenate((joint_torques1, joint_torques2))\n",
    "    \n",
    "    # we send them to the robot and do one simulation step\n",
    "    robot.send_joint_torque(joint_torques)\n",
    "    sleep(dt)"
   ]
  }
 ],
 "metadata": {
  "kernelspec": {
   "display_name": "rob2004",
   "language": "python",
   "name": "python3"
  },
  "language_info": {
   "codemirror_mode": {
    "name": "ipython",
    "version": 3
   },
   "file_extension": ".py",
   "mimetype": "text/x-python",
   "name": "python",
   "nbconvert_exporter": "python",
   "pygments_lexer": "ipython3",
   "version": "3.13.2"
  }
 },
 "nbformat": 4,
 "nbformat_minor": 4
}
