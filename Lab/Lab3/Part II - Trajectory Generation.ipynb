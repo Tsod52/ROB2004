{
 "cells": [
  {
   "cell_type": "markdown",
   "metadata": {},
   "source": [
    "# Trajectory generation\n",
    "\n",
    "In the second part of the laboratory, we will learn how we can generate trajectories to go from one desired position to another that have nice properties for the control of robots.\n",
    "\n",
    "## Instructions\n",
    "Answer all the questions below and submit a pdf with detailed answers to these questions, including the plots through Brightspace. You will also need to submit the Jupyter notebooks with the code used to answer the questions."
   ]
  },
  {
   "cell_type": "markdown",
   "metadata": {},
   "source": [
    "# Interpolation for trajectory generation\n",
    "In the last laboratory, we generated desired joint positions from an initial position $\\theta_{init}$ at time $t=t_{init}$ to a goal position $\\theta_{goal}$ at time $t=t_{end}$ to reach a desired goal with the end-effector.\n",
    "\n",
    "Indeed, it is generally not a good idea to just send the desired goal joint positions to the PD controller because if they are too far from the actual positions, the error will be large and a large torque will be applied on each motor. This will likely create a very jerky movement which could damage the robot, its motors, etc.\n",
    "\n",
    "Instead, at every control cycle, it is desirable to compute a desired position to send to the PD controller which is \"in-between\" the initial and goal position. One straightforward manner to do this is to interpolate between the initial and goal position. For example, we could set\n",
    "$$\\theta_{des}(s) = \\theta_{init} + s \\cdot (\\theta_{goal} - \\theta_{init})$$\n",
    "with $s \\in [0,1]$. \n",
    "1. When $s=0$ we get $\\theta_{des} = \\theta_{init}$ (i.e. the joint angle when we started the movement). \n",
    "2. When $s=1$, we get $\\theta_{des} = \\theta_{goal}$ (i.e. the position where we would like to end up). \n",
    "3. For any $s$ between 0 and 1, we generate a line segment between those two positions.\n",
    "\n",
    "This equation allows us to interpolate between $\\theta_{init}$ and $\\theta_{goal}$. We now need to decide how to choose $s$ to have a nice movement between these values."
   ]
  },
  {
   "cell_type": "markdown",
   "metadata": {},
   "source": [
    "# Time parametrization of the trajectory\n",
    "## Linear time parametrization\n",
    "\n",
    "Now we would like to change $s$ as a function of time, i.e. find $s(t)$ $\\forall t \\in [t_{init},\\ t_{goal}]$ for a total duration of movement of $T = t_{goal} - t_{init}$. Note that we require $s(t_{init}) = 0$ and $s(t_{goal}) = 1$ (cf. above).\n",
    "\n",
    "The simplest manner to set $s(t)$ is a linear parametrization, i.e. simply choosing \n",
    "$$ s(t) = \\frac{t-t_{init}}{t_{goal} - t_{init}} = \\frac{t-t_{init}}{T}$$ \n",
    "\n",
    "Using the interpolation from above, we find the equation for $\\theta(t)$,\n",
    "$\\theta_{des}(t) = \\theta_{init} + \\frac{t-t_{init}}{T} (\\theta_{goal} - \\theta_{init})$.\n",
    "\n",
    "Doing so implies that the desired velocity and acceleration of the joint will be \n",
    "$$\\dot{\\theta}_{des}(t) = \\frac{1}{T} (\\theta_{goal} - \\theta_{init})$$\n",
    "and\n",
    "$$\\ddot{\\theta}_{des}(t) = 0$$\n",
    "\n",
    "Therefore, a linear parametrization of time leads to\n",
    "1. constant desired velocity\n",
    "2. zero desired acceleration. \n",
    "\n",
    "This is potentially problematic because we would instead like to start the motion at rest (velocity at $t=0$ should be 0) and would like to end our movement with 0 velocity (otherwise the robot would not stop).\n",
    "\n",
    "The figure below show an example of such a trajectory going from position 0 to position 10 in $T=5$ seconds. Notice how the position starts and ends at the desired locations but that the velocity is constant and acceleration is 0.\n",
    "$$\\theta_{des}(t) = \\frac{t}{5} \\cdot 10$$\n",
    "$$\\dot\\theta_{des}(t) = 2$$\n",
    "$$\\ddot\\theta_{des}(t) = 0$$\n",
    "<img src=\"./lin_interp.png\" width=\"500\">"
   ]
  },
  {
   "cell_type": "markdown",
   "metadata": {},
   "source": [
    "## Time parametrization with velocity constraints\n",
    "We can instead parametrize $s(t)$ as a polynomial of $t$ such that we can impose further constraints on the desired velociy, acceleration, etc. If we choose $s(t)$ to be an arbitrary function of time, we have \n",
    "1. a desired position $\\theta_{des}(t) = \\theta_{init} + s(t) \\cdot (\\theta_{goal} - \\theta_{init})$,\n",
    "2. a desired velocity $\\dot{\\theta}_{des}(t) = \\dot{s}(t) \\cdot (\\theta_{goal} - \\theta_{init})$,\n",
    "3. and a desired acceleration $\\ddot{\\theta}_{des}(t) = \\ddot{s}(t) \\cdot (\\theta_{goal} - \\theta_{init})$\n",
    "\n",
    "To ensure that the desired velocity at the beginning and the end of the movement is equal to 0, we need to have the following 4 constraints\n",
    "\n",
    "$$s(t_{init}) = 0$$ \n",
    "$$s(t_{goal}) = 1$$\n",
    "$$\\dot{s}(t_{init}) = 0$$\n",
    "$$\\dot{s}(t_{goal}) = 0$$\n",
    "\n",
    "Because we have 4 constraints, we need to parametrize $s(t)$ with a polynomial of at least degree 3 to have enough open parameters. Lets set \n",
    "$$s(t) = a_0 + a_1 (t-t_{init}) + a_2 (t-t_{init})^2 + a_3 (t-t_{init})^3$$\n",
    "\n",
    "Then we have\n",
    "$$\\dot{s}(t) = a_1 + 2 a_2 (t-t_{init}) + 3 a_3 (t-t_{init})^2$$\n",
    "\n",
    "The constraint $\\dot{s}(t_{init}) = 0$ implies that $a_1 = 0$. Similarly, the constraint that $\\dot{s}(t_{goal}) = 0$ imposes that $a_2 = -\\frac{3}{2} a_3 T$. \n",
    "\n",
    "The constraint $s(t_{init}) = 0$ imposes that $a_0 = 0$. The last constraint, $s(t_{goal}) = 1$ implies that $a_3 = -\\frac{2}{T^3}$. \n",
    "\n",
    "Putting everything together we find that to impose the 0 velocity constraints at the beginning and at the end of the trajectory, one can choose $$s(t) = \\frac{3}{T^2}(t-t_{init})^2 - \\frac{2}{T^3}(t-t_{init})^3$$\n",
    "\n",
    "This results in the following \n",
    "1. desired trajectory:\n",
    "$$\\theta_{des}(t) = \\theta_{init} + \\left(\\frac{3}{T^2}(t-t_{init})^2 - \\frac{2}{T^3}(t-t_{init})^3\\right) \\cdot(\\theta_{goal} - \\theta_{init})$$\n",
    "2. desired velocity:\n",
    "$$\\dot{\\theta}_{des}(t) = \\left(\\frac{6}{T^2}(t-t_{init}) - \\frac{6}{T^3}(t-t_{init})^2\\right)\\cdot (\\theta_{goal} - \\theta_{init})$$\n",
    "3. and desired acceleration\n",
    "$$\\ddot{\\theta}_{des}(t) = \\left(\\frac{6}{T^2} - \\frac{12}{T^3}(t-t_{init})\\right)\\cdot (\\theta_{goal} - \\theta_{init})$$\n",
    "\n",
    "The figure below shows the same example as above but with the new parametrization (in orange). Notice how the position still starts and ends at the desired positions and now the velocity starts and ends with 0. The acceleration, however, is non-zero at the beginning and the end.\n",
    "<img src=\"./third_interp.png\" width=\"500\">"
   ]
  },
  {
   "cell_type": "markdown",
   "metadata": {},
   "source": [
    "## Time parametrization with acceleration and velocity constraints\n",
    "In general, if we impose only velocity constraints, we might have non-zero accelerations which can be an issue when generating torques in the PD controller. We generally prefer also imposing acceleration constraints in addition to the other constraints. We then have the following 6 constraints:\n",
    "\n",
    "$$s(t_{init}) = 0, \\ \\ s(t_{goal}) = 1$$\n",
    "$$\\dot{s}(t_{init}) = 0, \\ \\ \\dot{s}(t_{goal}) = 0$$\n",
    "$$\\ddot{s}(t_{init}) = 0, \\ \\ \\ddot{s}(t_{goal}) = 0$$\n",
    "\n",
    "We now need to use a polynomial of at least 5th order to have enough open parameters. Our polynomial is then $$s(t) = a_0 + a_1 (t-t_{init}) + a_2 (t-t_{init})^2 + a_3 (t-t_{init})^3 + a_4 (t-t_{init})^4 + a_5 (t-t_{init})^5$$\n",
    "\n",
    "As before, we can find the coefficients by solving for the constraints. We find that $a_0 = a_1 = a_2 = 0$, $a_3 = \\frac{10}{T^3}$, $a_4 = \\frac{-15}{T^4}$ and $a_5 = \\frac{6}{T^5}$.\n",
    "This gives the following \n",
    "1. desired position parametrized by time\n",
    "$$\\theta_{des}(t) = \\theta_{init} + \\left( \\frac{10}{T^3} (t-t_{init})^3 + \\frac{-15}{T^4} (t-t_{init})^4 + \\frac{6}{T^5} (t-t_{init})^5 \\right) \\cdot (\\theta_{goal} - \\theta_{init})$$\n",
    "2. desired velocity\n",
    "$$\\dot{\\theta}_{des}(t) = \\left( \\frac{30}{T^3} (t-t_{init})^2 + \\frac{-60}{T^4} (t-t_{init})^3 + \\frac{30}{T^5} (t-t_{init})^4 \\right) \\cdot (\\theta_{goal} - \\theta_{init})$$\n",
    "3. and desired acceleration\n",
    "$$\\ddot{\\theta}_{des}(t) = \\left( \\frac{60}{T^3} (t-t_{init}) + \\frac{-180}{T^4} (t-t_{init})^2 + \\frac{120}{T^5} (t-t_{init})^3 \\right)\\cdot (\\theta_{goal} - \\theta_{init})$$\n",
    "\n",
    "The figure below shows the same example as above but with the new parametrization (in green). Notice how all the start and end constraints are now fullfiled, including starting and endining with 0 velocity and acceleration.\n",
    "<img src=\"./fifth_interp.png\" width=\"500\">"
   ]
  },
  {
   "cell_type": "code",
   "execution_count": 1,
   "metadata": {},
   "outputs": [],
   "source": [
    "# we import useful libraries\n",
    "import time\n",
    "import numpy as np\n",
    "import matplotlib as mp\n",
    "import matplotlib.pyplot as plt\n",
    "from NYUFinger.sim import NYUFingerSimulator  \n",
    "# here we define the global variables for the robot size\n",
    "l0 = 0.3\n",
    "l1 = 0.16\n",
    "l2 = 0.16\n",
    "l3 = 0.014"
   ]
  },
  {
   "cell_type": "markdown",
   "metadata": {},
   "source": [
    "## Question 1: generating trajectories\n",
    "Write a ``compute_trajectory`` function that takes as input arguments: a starting position, a goal position, a starting time, a final time and the current time t (between starting and final time). The function returns a desired position and a desired velocity. Use a time paramterization such that the velocity and acceleration are 0 at the beginning and end of the movement. You can use the function prototype below."
   ]
  },
  {
   "cell_type": "code",
   "execution_count": null,
   "metadata": {},
   "outputs": [],
   "source": [
    "def compute_trajectory(position_init, position_goal, t_init, t_goal, t):\n",
    "    desired_position = 0\n",
    "    desired_velocity = 0\n",
    "    \n",
    "    #Total time of the trajectory\n",
    "    T = t_goal - t_init\n",
    "\n",
    "    #variable gradient\n",
    "    s_t = (10/(T**3))(t-t_init)**3 - (15/(T**4))(t-t_init)**4 + (6/(T**5))(t-t_init)**5\n",
    "\n",
    "    s_prime_t = (30/(T**3))(t-t_init)**2 - (60/(T**4))(t-t_init)**3 + (30/(T**5))(t-t_init)**4\n",
    "\n",
    "    #desired position\n",
    "    desired_position = position_init + s_t*(position_goal - position_init)\n",
    "\n",
    "    #desired velocity\n",
    "    desired_velocity = s_prime_t*(position_goal - position_init)\n",
    "\n",
    "    # we return the answer\n",
    "    return desired_position, desired_velocity"
   ]
  },
  {
   "cell_type": "markdown",
   "metadata": {},
   "source": [
    "## Question 2: generating trajectories to reach desired goals in joint space\n",
    "Re-use and modify the code and functions from Part I in order to implement the following controller:\n",
    "\n",
    "1. Use the inverse geometry function to compute joint angles for each of the goal end-effector positions and use the ``compute_trajectory`` function to generate trajectories in joint space to reach all these goals. Use a total time for the movement of T=5 seconds per goal.\n",
    "\n",
    "2. Use the plotting function below to plot the motion of the foot in space and the joint position/velocity trajectories. Analyze the trajectories of the end-effector.\n",
    "\n",
    "3. Do the same task but now using a linear time interpolation for the trajectory. Compare these results with the previous ones. Do you see any quantitative or qualitative changes? Which option seems better?\n",
    "\n",
    "4. Execute the controllers on the real robot, plot the resulting trajectories and analyze the results."
   ]
  },
  {
   "cell_type": "markdown",
   "metadata": {},
   "source": [
    "## [Optional] Question 3: generating arbitrary finger trajectories\n",
    "1. Write a controller that can move the fingertip of the robot in a circle in the vertical plane leveraging the inverse geometry function.\n",
    "2. Test the controller in simulation and on the real robot. Provide plots of the results."
   ]
  },
  {
   "cell_type": "code",
   "execution_count": null,
   "metadata": {},
   "outputs": [],
   "source": []
  }
 ],
 "metadata": {
  "kernelspec": {
   "display_name": "rob2004",
   "language": "python",
   "name": "python3"
  },
  "language_info": {
   "codemirror_mode": {
    "name": "ipython",
    "version": 3
   },
   "file_extension": ".py",
   "mimetype": "text/x-python",
   "name": "python",
   "nbconvert_exporter": "python",
   "pygments_lexer": "ipython3",
   "version": "3.10.0"
  }
 },
 "nbformat": 4,
 "nbformat_minor": 4
}
