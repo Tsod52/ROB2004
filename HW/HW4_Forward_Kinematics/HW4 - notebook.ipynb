{
 "cells": [
  {
   "cell_type": "markdown",
   "metadata": {},
   "source": [
    "## Getting started\n",
    "To run this notebook you need to install `pinocchio`, `meshcat` and `example_robot_data`. You can do it in your environment as follows\n",
    "\n",
    "\n",
    "```bash\n",
    "conda install pinocchio example-robot-data\n",
    "pip install meshcat\n",
    "```"
   ]
  },
  {
   "cell_type": "code",
   "execution_count": null,
   "metadata": {},
   "outputs": [],
   "source": [
    "import numpy as np\n",
    "import pinocchio as pin\n",
    "import os\n",
    "import time\n",
    "import meshcat\n",
    "import matplotlib.pyplot as plt\n",
    "\n",
    "from pinocchio.visualize import MeshcatVisualizer\n",
    "\n",
    "import example_robot_data.robots_loader as robots\n"
   ]
  },
  {
   "cell_type": "code",
   "execution_count": 42,
   "metadata": {},
   "outputs": [
    {
     "name": "stdout",
     "output_type": "stream",
     "text": [
      "You can open the visualizer by visiting the following URL:\n",
      "http://127.0.0.1:7002/static/\n"
     ]
    }
   ],
   "source": [
    "## this part of the code will load the panda robot model and display it\n",
    "robot = robots.load('panda')\n",
    "\n",
    "END_EFF_FRAME_ID = 17\n",
    "\n",
    "viz = pin.visualize.MeshcatVisualizer(robot.model, robot.collision_model, robot.visual_model)\n",
    "\n",
    "try:\n",
    "    viz.initViewer(open=True)\n",
    "except ImportError as err:\n",
    "    print(\"Error while initializing the viewer. It seems you should install Python meshcat\")\n",
    "    print(err)\n",
    "    sys.exit(0)\n",
    "    \n",
    "viz.loadViewerModel()\n",
    "\n",
    "q0 = pin.neutral(robot.model)\n",
    "viz.display(q0)"
   ]
  },
  {
   "cell_type": "markdown",
   "metadata": {},
   "source": [
    "# Basic Finctions \n",
    "\n",
    "* We start by defining the basic functions to get homogeneous transforms that correspond to pure translations and rotations around x,y or z axes. \n",
    "The functions are defined bellow:"
   ]
  },
  {
   "cell_type": "code",
   "execution_count": 44,
   "metadata": {},
   "outputs": [],
   "source": [
    "def translate(vector):\n",
    "    # we allocate a 4x4 array (as identity since this corresponds to no motion)\n",
    "    transform = np.eye(4)\n",
    "    \n",
    "    # here you can fill the rest of the transform\n",
    "    transform[0:3,3] = vector\n",
    "\n",
    "    ### we return the object\n",
    "    return transform\n",
    "\n",
    "def rotateX(angle):\n",
    "    # we allocate a 4x4 array (as identity since this corresponds to no motion)\n",
    "    transform = np.eye(4)\n",
    "    \n",
    "    # here you can fill the rest of the transform\n",
    "    transform[1:3,1:3] = np.array([[np.cos(angle), -np.sin(angle)],[np.sin(angle), np.cos(angle)]])\n",
    "\n",
    "    ### we return the object\n",
    "    return transform\n",
    "\n",
    "def rotateY(angle):\n",
    "    # we allocate a 4x4 array (as identity since this corresponds to no motion)\n",
    "    transform = np.eye(4)\n",
    "    \n",
    "    # here you can fill the rest of the transform\n",
    "    transform[0,0] = np.cos(angle)\n",
    "    transform[0,2] = np.sin(angle)\n",
    "    transform[2,0] = -np.sin(angle)\n",
    "    transform[2,2] = np.cos(angle)\n",
    "\n",
    "    ### we return the object\n",
    "    return transform\n",
    "\n",
    "def rotateZ(angle):\n",
    "    # we allocate a 4x4 array (as identity since this corresponds to no motion)\n",
    "    transform = np.eye(4)\n",
    "    \n",
    "    # here you can fill the rest of the transform\n",
    "    transform[0:2,0:2] = np.array([[np.cos(angle), -np.sin(angle)],[np.sin(angle), np.cos(angle)]])\n",
    "\n",
    "    \n",
    "    ### we return the object\n",
    "    return transform"
   ]
  },
  {
   "cell_type": "markdown",
   "metadata": {},
   "source": [
    "# Forward Kinematics \n",
    "\n",
    "* We then use the basic functions defined above to compute the forward kinematics of the robot by following the steps given bellow:\n",
    "\n",
    "    1. Fix a base frame - our world frame of reference\n",
    "    2. Choose frames attached on each link/body (first make sure you find all the links and joints connecting them)\n",
    "    3. Compute the relative transforms between each links\n",
    "    4. Compute the FK giving the pose of the end-effector in the base frame."
   ]
  },
  {
   "cell_type": "code",
   "execution_count": 45,
   "metadata": {},
   "outputs": [],
   "source": [
    "## write your forward kinematics code here\n",
    "def forward_kinematics(q):\n",
    "    T_SL1 = translate([0, 0, 0.3330])@rotateZ(q[0])\n",
    "    T_L1L2 = rotateY(q[1])\n",
    "    T_L2L3 = translate([0, 0, 0.3160])@rotateZ(q[2])\n",
    "    T_L3L4 = translate([0.0825,0,0])@rotateY(-q[3])\n",
    "    T_L4L5 = translate([-0.0825,0,0])@translate([0, 0, 0.3840])@rotateZ(q[4])\n",
    "    T_L5L6 = rotateY(-q[5])\n",
    "    T_L6F = translate([0.0880,0,0])@rotateX(np.pi)@translate([0, 0, 0.1070])@rotateZ(q[6])\n",
    "\n",
    "    #The forward kinematics of the end effector is the product of all the transforms\n",
    "    T_SF = T_SL1@T_L1L2@T_L2L3@T_L3L4@T_L4L5@T_L5L6@T_L6F\n",
    "    # we return the pose of the end effector\n",
    "    return T_SF\n"
   ]
  },
  {
   "cell_type": "code",
   "execution_count": 46,
   "metadata": {},
   "outputs": [
    {
     "name": "stdout",
     "output_type": "stream",
     "text": [
      "Pinocchio FK at q0: \n",
      " [[ 7.07106894e-01 -7.07106663e-01 -9.19999999e-05  3.06880411e-01]\n",
      " [-7.07106666e-01 -7.07106897e-01  3.13989653e-16  2.36794417e-16]\n",
      " [-6.50538344e-05  6.50538131e-05 -9.99999996e-01  5.90275645e-01]\n",
      " [ 0.00000000e+00  0.00000000e+00  0.00000000e+00  1.00000000e+00]]\n"
     ]
    }
   ],
   "source": [
    "## use pinocchio to validate your FK function\n",
    "## be careful as the pinocchio model has 9 DOFs (to account for the fingers)\n",
    "## use the first 7 ones for the joint angles\n",
    "\n",
    "## pose of the end-effector at the 0 configuration\n",
    "q = robot.q0\n",
    "robot.forwardKinematics(q)\n",
    "\n",
    "T_pin = robot.framePlacement(q, END_EFF_FRAME_ID)\n",
    "\n",
    "viz.display(q)\n",
    "print(\"Pinocchio FK at q0: \\n\", T_pin.homogeneous)\n",
    "\n"
   ]
  },
  {
   "cell_type": "code",
   "execution_count": 48,
   "metadata": {},
   "outputs": [
    {
     "name": "stdout",
     "output_type": "stream",
     "text": [
      " My own FK at a random pose q = {q[0:7]} : \n",
      "\n",
      " [[ 0.04786812  0.85285787 -0.51994431  0.19114787]\n",
      " [ 0.9674705   0.08987065  0.23648278  0.38874105]\n",
      " [ 0.24841393 -0.51435077 -0.82081289  0.82482245]\n",
      " [ 0.          0.          0.          1.        ]]\n",
      "Pinocchio FK at a random pose q = [0.8717519  0.76864295 0.16953641 0.2879852  0.9589314  0.60359815\n",
      " 0.24693205]: \n",
      "\n",
      " [[ 0.04786812  0.85285787 -0.51994431  0.19114787]\n",
      " [ 0.9674705   0.08987065  0.23648278  0.38874105]\n",
      " [ 0.24841393 -0.51435077 -0.82081289  0.82482245]\n",
      " [ 0.          0.          0.          1.        ]]\n"
     ]
    }
   ],
   "source": [
    "## pose of the end-effector at a random configuration\n",
    "q[0:7] = np.random.rand(7)\n",
    "robot.forwardKinematics(q)\n",
    "T_pin = robot.framePlacement(q, END_EFF_FRAME_ID)\n",
    "\n",
    "# Using the forward kinematics function\n",
    "T_SF_pin = forward_kinematics(q)\n",
    "print(\" My own FK at a random pose q = {q[0:7]} : \\n\\n\", T_SF_pin)\n",
    "\n",
    "viz.display(q)\n",
    "print(f\"Pinocchio FK at a random pose q = {q[0:7]}: \\n\\n\", T_pin.homogeneous)"
   ]
  },
  {
   "cell_type": "code",
   "execution_count": 52,
   "metadata": {},
   "outputs": [
    {
     "data": {
      "image/png": "[encoded data removed]",
      "text/plain": [
       "<Figure size 640x480 with 1 Axes>"
      ]
     },
     "metadata": {},
     "output_type": "display_data"
    }
   ],
   "source": [
    "## we load the file robot_trajectory.npy - it contains a list of 23 joint configurations\n",
    "robot_trajectory = np.load('robot_trajectory.npy') \n",
    "#Initialize a list to store the end-effector's x and y coordinates\n",
    "x_coords = []\n",
    "y_coords = []\n",
    "\n",
    "# Define the frame ID for the end effector (assuming the ID is correct)\n",
    "# Loop over each joint configuration in the trajectory\n",
    "for q in robot_trajectory:\n",
    "    # Use your forward kinematics function\n",
    "    T_SF = forward_kinematics(q)\n",
    "\n",
    "    # Extract the x and y coordinates from the transformation matrix\n",
    "    x_coords.append(T_SF[0, 3])\n",
    "    y_coords.append(T_SF[1, 3])\n",
    "\n",
    "# Plot the x and y coordinates of the end-effector on a 2D graph\n",
    "plt.plot(x_coords, y_coords, marker='o', linestyle='-', color='b')\n",
    "plt.title('End-Effector Trajectory in 2D')\n",
    "plt.xlabel('X Coordinate')\n",
    "plt.ylabel('Y Coordinate')\n",
    "plt.grid(True)\n",
    "plt.axis('equal')  # Ensure the aspect ratio is equal for both axes\n",
    "plt.show()"
   ]
  }
 ],
 "metadata": {
  "kernelspec": {
   "display_name": "rob2004",
   "language": "python",
   "name": "python3"
  },
  "language_info": {
   "codemirror_mode": {
    "name": "ipython",
    "version": 3
   },
   "file_extension": ".py",
   "mimetype": "text/x-python",
   "name": "python",
   "nbconvert_exporter": "python",
   "pygments_lexer": "ipython3",
   "version": "3.13.2"
  }
 },
 "nbformat": 4,
 "nbformat_minor": 4
}
